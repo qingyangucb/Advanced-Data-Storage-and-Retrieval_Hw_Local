{
 "cells": [
  {
   "cell_type": "code",
   "execution_count": 1,
   "metadata": {},
   "outputs": [],
   "source": [
    "%matplotlib inline\n",
    "from matplotlib import style\n",
    "style.use('fivethirtyeight')\n",
    "import matplotlib.pyplot as plt"
   ]
  },
  {
   "cell_type": "code",
   "execution_count": 2,
   "metadata": {},
   "outputs": [],
   "source": [
    "import numpy as np\n",
    "import pandas as pd"
   ]
  },
  {
   "cell_type": "code",
   "execution_count": 3,
   "metadata": {},
   "outputs": [],
   "source": [
    "import datetime as dt"
   ]
  },
  {
   "cell_type": "markdown",
   "metadata": {},
   "source": [
    "# Reflect Tables into SQLAlchemy ORM"
   ]
  },
  {
   "cell_type": "code",
   "execution_count": 4,
   "metadata": {},
   "outputs": [],
   "source": [
    "# Python SQL toolkit and Object Relational Mapper\n",
    "import sqlalchemy\n",
    "from sqlalchemy.ext.automap import automap_base\n",
    "from sqlalchemy.orm import Session\n",
    "from sqlalchemy import create_engine, func\n",
    "from sqlalchemy import inspect "
   ]
  },
  {
   "cell_type": "code",
   "execution_count": 5,
   "metadata": {},
   "outputs": [],
   "source": [
    "engine = create_engine(\"sqlite:///Resources/hawaii.sqlite\")"
   ]
  },
  {
   "cell_type": "code",
   "execution_count": 6,
   "metadata": {},
   "outputs": [],
   "source": [
    "# reflect an existing database into a new model\n",
    "Base = automap_base()\n",
    "# reflect the tables\n",
    "Base.prepare(engine, reflect=True)"
   ]
  },
  {
   "cell_type": "code",
   "execution_count": 7,
   "metadata": {},
   "outputs": [
    {
     "data": {
      "text/plain": [
       "['measurement', 'station']"
      ]
     },
     "execution_count": 7,
     "metadata": {},
     "output_type": "execute_result"
    }
   ],
   "source": [
    "# We can view all of the classes that automap found\n",
    "Base.classes.keys()"
   ]
  },
  {
   "cell_type": "code",
   "execution_count": 8,
   "metadata": {},
   "outputs": [],
   "source": [
    "# Save references to each table\n",
    "Measurement = Base.classes.measurement\n",
    "Station = Base.classes.station"
   ]
  },
  {
   "cell_type": "code",
   "execution_count": 9,
   "metadata": {},
   "outputs": [],
   "source": [
    "# Create our session (link) from Python to the DB\n",
    "session = Session(engine)\n",
    "inspector = inspect(engine) "
   ]
  },
  {
   "cell_type": "code",
   "execution_count": 10,
   "metadata": {
    "scrolled": true
   },
   "outputs": [
    {
     "name": "stdout",
     "output_type": "stream",
     "text": [
      "id INTEGER\n",
      "station TEXT\n",
      "date TEXT\n",
      "prcp FLOAT\n",
      "tobs FLOAT\n"
     ]
    }
   ],
   "source": [
    "columns_M = inspector.get_columns('Measurement') \n",
    "for c in columns_M:\n",
    "    print(c[\"name\"], c[\"type\"])"
   ]
  },
  {
   "cell_type": "markdown",
   "metadata": {},
   "source": [
    "# Exploratory Climate Analysis"
   ]
  },
  {
   "cell_type": "code",
   "execution_count": 11,
   "metadata": {
    "scrolled": true
   },
   "outputs": [
    {
     "data": {
      "image/png": "[encoded data removed]",
      "text/plain": [
       "<Figure size 432x288 with 1 Axes>"
      ]
     },
     "metadata": {
      "needs_background": "light"
     },
     "output_type": "display_data"
    }
   ],
   "source": [
    "# Design a query to retrieve the last 12 months of precipitation data and plot the results\n",
    "\n",
    "\n",
    "last_date = dt.date(2017, 8 ,23) - dt.timedelta(days=365)\n",
    "\n",
    "results_M = session.query(Measurement.date, Measurement.prcp).\\\n",
    "            order_by(Measurement.date.desc()).filter(Measurement.date > last_date).all()\n",
    "results_M\n",
    "\n",
    "df_M=pd.DataFrame(results_M, columns = [\"date\", \"precipitation\"])\n",
    "\n",
    "ax=df_M.plot() \n",
    "ax.set_xlabel(\"date\")\n",
    "plt.show()\n",
    "\n",
    "# Calculate the date 1 year ago from the last data point in the database\n",
    "\n",
    "# Perform a query to retrieve the data and precipitation scores\n",
    "\n",
    "# Save the query results as a Pandas DataFrame and set the index to the date column\n",
    "\n",
    "# Sort the dataframe by date\n",
    "\n",
    "# Use Pandas Plotting with Matplotlib to plot the data\n"
   ]
  },
  {
   "cell_type": "markdown",
   "metadata": {},
   "source": [
    "![precipitation](Images/precipitation.png)"
   ]
  },
  {
   "cell_type": "code",
   "execution_count": 12,
   "metadata": {},
   "outputs": [
    {
     "data": {
      "text/html": [
       "<div>\n",
       "<style scoped>\n",
       "    .dataframe tbody tr th:only-of-type {\n",
       "        vertical-align: middle;\n",
       "    }\n",
       "\n",
       "    .dataframe tbody tr th {\n",
       "        vertical-align: top;\n",
       "    }\n",
       "\n",
       "    .dataframe thead th {\n",
       "        text-align: right;\n",
       "    }\n",
       "</style>\n",
       "<table border=\"1\" class=\"dataframe\">\n",
       "  <thead>\n",
       "    <tr style=\"text-align: right;\">\n",
       "      <th></th>\n",
       "      <th>precipitation</th>\n",
       "    </tr>\n",
       "  </thead>\n",
       "  <tbody>\n",
       "    <tr>\n",
       "      <th>count</th>\n",
       "      <td>2015.000000</td>\n",
       "    </tr>\n",
       "    <tr>\n",
       "      <th>mean</th>\n",
       "      <td>0.176462</td>\n",
       "    </tr>\n",
       "    <tr>\n",
       "      <th>std</th>\n",
       "      <td>0.460288</td>\n",
       "    </tr>\n",
       "    <tr>\n",
       "      <th>min</th>\n",
       "      <td>0.000000</td>\n",
       "    </tr>\n",
       "    <tr>\n",
       "      <th>25%</th>\n",
       "      <td>0.000000</td>\n",
       "    </tr>\n",
       "    <tr>\n",
       "      <th>50%</th>\n",
       "      <td>0.020000</td>\n",
       "    </tr>\n",
       "    <tr>\n",
       "      <th>75%</th>\n",
       "      <td>0.130000</td>\n",
       "    </tr>\n",
       "    <tr>\n",
       "      <th>max</th>\n",
       "      <td>6.700000</td>\n",
       "    </tr>\n",
       "  </tbody>\n",
       "</table>\n",
       "</div>"
      ],
      "text/plain": [
       "       precipitation\n",
       "count    2015.000000\n",
       "mean        0.176462\n",
       "std         0.460288\n",
       "min         0.000000\n",
       "25%         0.000000\n",
       "50%         0.020000\n",
       "75%         0.130000\n",
       "max         6.700000"
      ]
     },
     "execution_count": 12,
     "metadata": {},
     "output_type": "execute_result"
    }
   ],
   "source": [
    "# Use Pandas to calcualte the summary statistics for the precipitation data\n",
    "df_M.describe()"
   ]
  },
  {
   "cell_type": "markdown",
   "metadata": {},
   "source": [
    "![describe](Images/describe.png)"
   ]
  },
  {
   "cell_type": "code",
   "execution_count": 13,
   "metadata": {},
   "outputs": [
    {
     "name": "stdout",
     "output_type": "stream",
     "text": [
      "id INTEGER\n",
      "station TEXT\n",
      "date TEXT\n",
      "prcp FLOAT\n",
      "tobs FLOAT\n"
     ]
    }
   ],
   "source": [
    "columns_M = inspector.get_columns('Measurement') \n",
    "for c in columns_M:\n",
    "    print(c[\"name\"], c[\"type\"])"
   ]
  },
  {
   "cell_type": "code",
   "execution_count": 14,
   "metadata": {},
   "outputs": [
    {
     "name": "stdout",
     "output_type": "stream",
     "text": [
      "id INTEGER\n",
      "station TEXT\n",
      "name TEXT\n",
      "latitude FLOAT\n",
      "longitude FLOAT\n",
      "elevation FLOAT\n"
     ]
    },
    {
     "data": {
      "text/plain": [
       "array(['USC00519397', 'USC00513117', 'USC00514830', 'USC00517948',\n",
       "       'USC00518838', 'USC00519523', 'USC00519281', 'USC00511918',\n",
       "       'USC00516128'], dtype=object)"
      ]
     },
     "execution_count": 14,
     "metadata": {},
     "output_type": "execute_result"
    }
   ],
   "source": [
    "# Design a query to show how many stations are available in this dataset?\n",
    "columns_S = inspector.get_columns('Station') \n",
    "for c in columns_S:\n",
    "    print(c[\"name\"], c[\"type\"])\n",
    "\n",
    "results_S = session.query(Measurement.station)\n",
    "df_S=pd.DataFrame(results_S, columns = [\"Name\"])\n",
    "df_S[\"Name\"].unique()"
   ]
  },
  {
   "cell_type": "code",
   "execution_count": 15,
   "metadata": {},
   "outputs": [
    {
     "data": {
      "text/plain": [
       "USC00519281    2772\n",
       "USC00519397    2724\n",
       "USC00513117    2709\n",
       "USC00519523    2669\n",
       "USC00516128    2612\n",
       "USC00514830    2202\n",
       "USC00511918    1979\n",
       "USC00517948    1372\n",
       "USC00518838     511\n",
       "Name: Name, dtype: int64"
      ]
     },
     "execution_count": 15,
     "metadata": {},
     "output_type": "execute_result"
    }
   ],
   "source": [
    "# What are the most active stations? (i.e. what stations have the most rows)?\n",
    "# List the stations and the counts in descending order.\n",
    "df_S[\"Name\"].value_counts()"
   ]
  },
  {
   "cell_type": "code",
   "execution_count": 16,
   "metadata": {},
   "outputs": [
    {
     "name": "stdout",
     "output_type": "stream",
     "text": [
      "lowest temperature: 54.0 degrees\n",
      "highest temperature: 85.0 degrees\n",
      "average temperature: 71.7 degrees\n"
     ]
    }
   ],
   "source": [
    "# Using the station id from the previous query, calculate the lowest temperature recorded, \n",
    "# highest temperature recorded, and average temperature most active station?\n",
    "results=session.query(Measurement.station, Measurement.tobs).filter(Measurement.station == \"USC00519281\")\n",
    "df=pd.DataFrame(results, columns = [\"Name\", \"tobs\"])\n",
    "print(f'lowest temperature: {df[\"tobs\"].min()} degrees')\n",
    "print(f'highest temperature: {df[\"tobs\"].max()} degrees')\n",
    "print(f'average temperature: {round(df[\"tobs\"].mean(),1)} degrees')"
   ]
  },
  {
   "cell_type": "code",
   "execution_count": 17,
   "metadata": {},
   "outputs": [
    {
     "ename": "AttributeError",
     "evalue": "'numpy.ndarray' object has no attribute 'set_ylabel'",
     "output_type": "error",
     "traceback": [
      "\u001b[1;31m---------------------------------------------------------------------------\u001b[0m",
      "\u001b[1;31mAttributeError\u001b[0m                            Traceback (most recent call last)",
      "\u001b[1;32m<ipython-input-17-f98a187e09d9>\u001b[0m in \u001b[0;36m<module>\u001b[1;34m\u001b[0m\n\u001b[0;32m      9\u001b[0m \u001b[0mdf\u001b[0m\u001b[1;33m=\u001b[0m\u001b[0mpd\u001b[0m\u001b[1;33m.\u001b[0m\u001b[0mDataFrame\u001b[0m\u001b[1;33m(\u001b[0m\u001b[0mresults\u001b[0m\u001b[1;33m,\u001b[0m \u001b[0mcolumns\u001b[0m \u001b[1;33m=\u001b[0m \u001b[1;33m[\u001b[0m\u001b[1;34m\"Name\"\u001b[0m\u001b[1;33m,\u001b[0m \u001b[1;34m\"tobs\"\u001b[0m\u001b[1;33m,\u001b[0m \u001b[1;34m\"date\"\u001b[0m\u001b[1;33m]\u001b[0m\u001b[1;33m)\u001b[0m\u001b[1;33m\u001b[0m\u001b[1;33m\u001b[0m\u001b[0m\n\u001b[0;32m     10\u001b[0m \u001b[0max\u001b[0m\u001b[1;33m=\u001b[0m\u001b[0mdf\u001b[0m\u001b[1;33m.\u001b[0m\u001b[0mhist\u001b[0m\u001b[1;33m(\u001b[0m\u001b[0mbins\u001b[0m\u001b[1;33m=\u001b[0m\u001b[1;36m10\u001b[0m\u001b[1;33m)\u001b[0m\u001b[1;33m\u001b[0m\u001b[1;33m\u001b[0m\u001b[0m\n\u001b[1;32m---> 11\u001b[1;33m \u001b[0max\u001b[0m\u001b[1;33m.\u001b[0m\u001b[0mset_ylabel\u001b[0m\u001b[1;33m(\u001b[0m\u001b[1;34m\"frequency\"\u001b[0m\u001b[1;33m)\u001b[0m\u001b[1;33m\u001b[0m\u001b[1;33m\u001b[0m\u001b[0m\n\u001b[0m",
      "\u001b[1;31mAttributeError\u001b[0m: 'numpy.ndarray' object has no attribute 'set_ylabel'"
     ]
    },
    {
     "data": {
      "image/png": "[encoded data removed]",
      "text/plain": [
       "<Figure size 432x288 with 1 Axes>"
      ]
     },
     "metadata": {
      "needs_background": "light"
     },
     "output_type": "display_data"
    }
   ],
   "source": [
    "# Choose the station with the highest number of temperature observations.\n",
    "# Query the last 12 months of temperature observation data for this station and plot the results as a histogram\n",
    "results=session.query(Measurement.station, Measurement.tobs, Measurement.date).filter(Measurement.station == \"USC00519281\").\\\n",
    "        order_by(Measurement.date.desc())\n",
    "last_date = dt.date(2017, 8 ,18) - dt.timedelta(days=365)\n",
    "results=session.query(Measurement.station, Measurement.tobs, Measurement.date).filter(Measurement.station == \"USC00519281\").\\\n",
    "        filter(Measurement.date > last_date).\\\n",
    "        order_by(Measurement.date.desc())\n",
    "df=pd.DataFrame(results, columns = [\"Name\", \"tobs\", \"date\"])\n",
    "ax=df.hist(bins=10)\n",
    "ax.set_ylabel(\"frequency\")"
   ]
  },
  {
   "cell_type": "markdown",
   "metadata": {},
   "source": [
    "![precipitation](Images/station-histogram.png)"
   ]
  },
  {
   "cell_type": "code",
   "execution_count": null,
   "metadata": {},
   "outputs": [],
   "source": [
    "# This function called `calc_temps` will accept start date and end date in the format '%Y-%m-%d' \n",
    "# and return the minimum, average, and maximum temperatures for that range of dates\n",
    "def calc_temps(start_date, end_date):\n",
    "#     \"\"\"TMIN, TAVG, and TMAX for a list of dates.\n",
    "    results=session.query(Measurement.date, Measurement.tobs).\\\n",
    "            filter(Measurement.date > start_date).\\\n",
    "            filter(Measurement.date < end_date).\\\n",
    "            order_by(Measurement.date.desc())\n",
    "    df = pd.DataFrame(results, columns = [\"Date\", \"Temp\"])\n",
    "    TMIN = df[\"Temp\"].min()\n",
    "    TAVE = round(df[\"Temp\"].mean(), 1)\n",
    "    TMAX = df[\"Temp\"].max()\n",
    "    return TMIN, TAVE, TMAX\n",
    "    \n",
    "#     Args:\n",
    "#         start_date (string): A date string in the format %Y-%m-%d\n",
    "#         end_date (string): A date string in the format %Y-%m-%d\n",
    "        \n",
    "#     Returns:\n",
    "#         TMIN, TAVE, and TMAX\n",
    "#     \"\"\"\n",
    "    \n",
    "#     return session.query(func.min(Measurement.tobs), func.avg(Measurement.tobs), func.max(Measurement.tobs)).\\\n",
    "#         filter(Measurement.date >= start_date).filter(Measurement.date <= end_date).all()\n",
    "\n",
    "# function usage example\n",
    "print(calc_temps('2012-02-28', '2012-03-05'))"
   ]
  },
  {
   "cell_type": "code",
   "execution_count": null,
   "metadata": {},
   "outputs": [],
   "source": [
    "# Use your previous function `calc_temps` to calculate the tmin, tavg, and tmax \n",
    "# for your trip using the previous year's data for those same dates.\n",
    "temp = calc_temps('2017-05-31', '2017-06-15')\n",
    "print(temp)"
   ]
  },
  {
   "cell_type": "code",
   "execution_count": null,
   "metadata": {},
   "outputs": [],
   "source": [
    "# Plot the results from your previous query as a bar chart. \n",
    "# Use \"Trip Avg Temp\" as your Title\n",
    "# Use the average temperature for the y value\n",
    "# Use the peak-to-peak (tmax-tmin) value as the y error bar (yerr)\n",
    "plt.bar(0,temp[1], yerr=temp[2]-temp[0])"
   ]
  },
  {
   "cell_type": "code",
   "execution_count": null,
   "metadata": {},
   "outputs": [],
   "source": [
    "# Calculate the total amount of rainfall per weather station for your trip dates using the previous year's matching dates.\n",
    "# Sort this in descending order by precipitation amount and list the station, name, latitude, longitude, and elevation\n",
    "start_date = '2017-05-31'\n",
    "end_date = '2017-06-15'\n",
    "\n",
    "results=session.query(Measurement, Station).filter(Measurement.station == Station.station).\\\n",
    "        filter(Measurement.date >= start_date).\\\n",
    "        filter(Measurement.date <= end_date).\\\n",
    "        order_by(Measurement.date.desc())\n",
    "df=[]\n",
    "for m, s in results:\n",
    "    i=0\n",
    "    values=[m.prcp, s.name, s.latitude, s.longitude, s.elevation]\n",
    "    df.append(values)\n",
    "df=pd.DataFrame(df, columns=['prcp', 'name', 'latitude', 'longitude', 'elevation'])\n",
    "df.groupby(['name','latitude','longitude','elevation']).sum()"
   ]
  },
  {
   "cell_type": "code",
   "execution_count": 19,
   "metadata": {},
   "outputs": [
    {
     "data": {
      "text/plain": [
       "[(62.0, 69.15384615384616, 77.0)]"
      ]
     },
     "execution_count": 19,
     "metadata": {},
     "output_type": "execute_result"
    }
   ],
   "source": [
    "# Create a query that will calculate the daily normals \n",
    "# (i.e. the averages for tmin, tmax, and tavg for all historic data matching a specific month and day)\n",
    "\n",
    "def daily_normals(date):\n",
    "    \"\"\"Daily Normals.\n",
    "    \n",
    "    Args:\n",
    "        date (str): A date string in the format '%m-%d'\n",
    "        \n",
    "    Returns:\n",
    "        A list of tuples containing the daily normals, tmin, tavg, and tmax\n",
    "    \n",
    "    \"\"\"\n",
    "    \n",
    "    sel = [func.min(Measurement.tobs), func.avg(Measurement.tobs), func.max(Measurement.tobs)]\n",
    "    return session.query(*sel).filter(func.strftime(\"%m-%d\", Measurement.date) == date).all()\n",
    "    \n",
    "daily_normals(\"01-01\")"
   ]
  },
  {
   "cell_type": "code",
   "execution_count": null,
   "metadata": {},
   "outputs": [],
   "source": [
    "answer = daily_normals(\"01-01\")\n",
    "answer[0][0]"
   ]
  },
  {
   "cell_type": "markdown",
   "metadata": {},
   "source": [
    "## Optional Challenge Assignment"
   ]
  },
  {
   "cell_type": "code",
   "execution_count": 35,
   "metadata": {},
   "outputs": [],
   "source": [
    "# calculate the daily normals for your trip\n",
    "# push each tuple of calculations into a list called `normals`\n",
    "\n",
    "# Set the start and end date of the trip\n",
    "\n",
    "# Use the start and end date to create a range of dates\n",
    "\n",
    "# Stip off the year and save a list of %m-%d strings\n",
    "\n",
    "# Loop through the list of %m-%d strings and calculate the normals for each date\n",
    "start_date = '2017-05-31'\n",
    "end_date = '2017-06-15'\n",
    "dates = session.query(func.strftime(\"%m-%d\", Measurement.date)).\\\n",
    "        filter(Measurement.date >= start_date).\\\n",
    "        filter(Measurement.date <= end_date).\\\n",
    "        order_by(Measurement.date).all()\n",
    "dates = np.ravel(dates)\n",
    "results_min = []\n",
    "results_avg = []\n",
    "results_max = []\n",
    "for i in range(len(dates)):\n",
    "    results_min.append(daily_normals(dates[i])[0][0])\n",
    "    results_avg.append(daily_normals(dates[i])[0][1])\n",
    "    results_max.append(daily_normals(dates[i])[0][2])\n"
   ]
  },
  {
   "cell_type": "code",
   "execution_count": 57,
   "metadata": {},
   "outputs": [
    {
     "data": {
      "text/plain": [
       "[['05-31', 68.0, 74.4, 81.0],\n",
       " ['05-31', 68.0, 74.4, 81.0],\n",
       " ['05-31', 68.0, 74.4, 81.0],\n",
       " ['05-31', 68.0, 74.4, 81.0],\n",
       " ['05-31', 68.0, 74.4, 81.0],\n",
       " ['06-01', 64.0, 74.6140350877193, 81.0],\n",
       " ['06-01', 64.0, 74.6140350877193, 81.0],\n",
       " ['06-01', 64.0, 74.6140350877193, 81.0],\n",
       " ['06-01', 64.0, 74.6140350877193, 81.0],\n",
       " ['06-01', 64.0, 74.6140350877193, 81.0],\n",
       " ['06-01', 64.0, 74.6140350877193, 81.0],\n",
       " ['06-02', 65.0, 74.4, 81.0],\n",
       " ['06-02', 65.0, 74.4, 81.0],\n",
       " ['06-02', 65.0, 74.4, 81.0],\n",
       " ['06-02', 65.0, 74.4, 81.0],\n",
       " ['06-02', 65.0, 74.4, 81.0],\n",
       " ['06-02', 65.0, 74.4, 81.0],\n",
       " ['06-03', 65.0, 74.03448275862068, 80.0],\n",
       " ['06-03', 65.0, 74.03448275862068, 80.0],\n",
       " ['06-03', 65.0, 74.03448275862068, 80.0],\n",
       " ['06-03', 65.0, 74.03448275862068, 80.0],\n",
       " ['06-03', 65.0, 74.03448275862068, 80.0],\n",
       " ['06-03', 65.0, 74.03448275862068, 80.0],\n",
       " ['06-04', 65.0, 73.81818181818181, 81.0],\n",
       " ['06-04', 65.0, 73.81818181818181, 81.0],\n",
       " ['06-04', 65.0, 73.81818181818181, 81.0],\n",
       " ['06-04', 65.0, 73.81818181818181, 81.0],\n",
       " ['06-04', 65.0, 73.81818181818181, 81.0],\n",
       " ['06-04', 65.0, 73.81818181818181, 81.0],\n",
       " ['06-05', 68.0, 74.85454545454546, 81.0],\n",
       " ['06-05', 68.0, 74.85454545454546, 81.0],\n",
       " ['06-05', 68.0, 74.85454545454546, 81.0],\n",
       " ['06-05', 68.0, 74.85454545454546, 81.0],\n",
       " ['06-05', 68.0, 74.85454545454546, 81.0],\n",
       " ['06-05', 68.0, 74.85454545454546, 81.0],\n",
       " ['06-05', 68.0, 74.85454545454546, 81.0],\n",
       " ['06-06', 70.0, 75.17543859649123, 80.0],\n",
       " ['06-06', 70.0, 75.17543859649123, 80.0],\n",
       " ['06-06', 70.0, 75.17543859649123, 80.0],\n",
       " ['06-06', 70.0, 75.17543859649123, 80.0],\n",
       " ['06-06', 70.0, 75.17543859649123, 80.0],\n",
       " ['06-06', 70.0, 75.17543859649123, 80.0],\n",
       " ['06-06', 70.0, 75.17543859649123, 80.0],\n",
       " ['06-07', 68.0, 75.07142857142857, 81.0],\n",
       " ['06-07', 68.0, 75.07142857142857, 81.0],\n",
       " ['06-07', 68.0, 75.07142857142857, 81.0],\n",
       " ['06-07', 68.0, 75.07142857142857, 81.0],\n",
       " ['06-07', 68.0, 75.07142857142857, 81.0],\n",
       " ['06-07', 68.0, 75.07142857142857, 81.0],\n",
       " ['06-07', 68.0, 75.07142857142857, 81.0],\n",
       " ['06-08', 70.0, 75.58620689655173, 81.0],\n",
       " ['06-08', 70.0, 75.58620689655173, 81.0],\n",
       " ['06-08', 70.0, 75.58620689655173, 81.0],\n",
       " ['06-08', 70.0, 75.58620689655173, 81.0],\n",
       " ['06-08', 70.0, 75.58620689655173, 81.0],\n",
       " ['06-08', 70.0, 75.58620689655173, 81.0],\n",
       " ['06-08', 70.0, 75.58620689655173, 81.0],\n",
       " ['06-09', 69.0, 75.15254237288136, 81.0],\n",
       " ['06-09', 69.0, 75.15254237288136, 81.0],\n",
       " ['06-09', 69.0, 75.15254237288136, 81.0],\n",
       " ['06-09', 69.0, 75.15254237288136, 81.0],\n",
       " ['06-09', 69.0, 75.15254237288136, 81.0],\n",
       " ['06-09', 69.0, 75.15254237288136, 81.0],\n",
       " ['06-10', 68.0, 75.14285714285714, 81.0],\n",
       " ['06-10', 68.0, 75.14285714285714, 81.0],\n",
       " ['06-10', 68.0, 75.14285714285714, 81.0],\n",
       " ['06-10', 68.0, 75.14285714285714, 81.0],\n",
       " ['06-10', 68.0, 75.14285714285714, 81.0],\n",
       " ['06-10', 68.0, 75.14285714285714, 81.0],\n",
       " ['06-11', 69.0, 76.01960784313725, 84.0],\n",
       " ['06-11', 69.0, 76.01960784313725, 84.0],\n",
       " ['06-11', 69.0, 76.01960784313725, 84.0],\n",
       " ['06-11', 69.0, 76.01960784313725, 84.0],\n",
       " ['06-11', 69.0, 76.01960784313725, 84.0],\n",
       " ['06-11', 69.0, 76.01960784313725, 84.0],\n",
       " ['06-12', 66.0, 75.66666666666667, 83.0],\n",
       " ['06-12', 66.0, 75.66666666666667, 83.0],\n",
       " ['06-12', 66.0, 75.66666666666667, 83.0],\n",
       " ['06-12', 66.0, 75.66666666666667, 83.0],\n",
       " ['06-12', 66.0, 75.66666666666667, 83.0],\n",
       " ['06-12', 66.0, 75.66666666666667, 83.0],\n",
       " ['06-13', 68.0, 75.66666666666667, 81.0],\n",
       " ['06-13', 68.0, 75.66666666666667, 81.0],\n",
       " ['06-13', 68.0, 75.66666666666667, 81.0],\n",
       " ['06-13', 68.0, 75.66666666666667, 81.0],\n",
       " ['06-13', 68.0, 75.66666666666667, 81.0],\n",
       " ['06-13', 68.0, 75.66666666666667, 81.0],\n",
       " ['06-13', 68.0, 75.66666666666667, 81.0],\n",
       " ['06-14', 69.0, 75.62711864406779, 81.0],\n",
       " ['06-14', 69.0, 75.62711864406779, 81.0],\n",
       " ['06-14', 69.0, 75.62711864406779, 81.0],\n",
       " ['06-14', 69.0, 75.62711864406779, 81.0],\n",
       " ['06-14', 69.0, 75.62711864406779, 81.0],\n",
       " ['06-14', 69.0, 75.62711864406779, 81.0],\n",
       " ['06-14', 69.0, 75.62711864406779, 81.0],\n",
       " ['06-15', 67.0, 75.40350877192982, 81.0],\n",
       " ['06-15', 67.0, 75.40350877192982, 81.0],\n",
       " ['06-15', 67.0, 75.40350877192982, 81.0],\n",
       " ['06-15', 67.0, 75.40350877192982, 81.0],\n",
       " ['06-15', 67.0, 75.40350877192982, 81.0],\n",
       " ['06-15', 67.0, 75.40350877192982, 81.0],\n",
       " ['06-15', 67.0, 75.40350877192982, 81.0]]"
      ]
     },
     "execution_count": 57,
     "metadata": {},
     "output_type": "execute_result"
    }
   ],
   "source": [
    "df = zip(dates,results_min, results_avg, results_max)\n",
    "df = [list(a) for a in df]\n",
    "df"
   ]
  },
  {
   "cell_type": "code",
   "execution_count": 58,
   "metadata": {},
   "outputs": [
    {
     "data": {
      "text/html": [
       "<div>\n",
       "<style scoped>\n",
       "    .dataframe tbody tr th:only-of-type {\n",
       "        vertical-align: middle;\n",
       "    }\n",
       "\n",
       "    .dataframe tbody tr th {\n",
       "        vertical-align: top;\n",
       "    }\n",
       "\n",
       "    .dataframe thead th {\n",
       "        text-align: right;\n",
       "    }\n",
       "</style>\n",
       "<table border=\"1\" class=\"dataframe\">\n",
       "  <thead>\n",
       "    <tr style=\"text-align: right;\">\n",
       "      <th></th>\n",
       "      <th>0</th>\n",
       "      <th>1</th>\n",
       "      <th>2</th>\n",
       "      <th>3</th>\n",
       "    </tr>\n",
       "  </thead>\n",
       "  <tbody>\n",
       "    <tr>\n",
       "      <th>0</th>\n",
       "      <td>05-31</td>\n",
       "      <td>68.0</td>\n",
       "      <td>74.400000</td>\n",
       "      <td>81.0</td>\n",
       "    </tr>\n",
       "    <tr>\n",
       "      <th>1</th>\n",
       "      <td>05-31</td>\n",
       "      <td>68.0</td>\n",
       "      <td>74.400000</td>\n",
       "      <td>81.0</td>\n",
       "    </tr>\n",
       "    <tr>\n",
       "      <th>2</th>\n",
       "      <td>05-31</td>\n",
       "      <td>68.0</td>\n",
       "      <td>74.400000</td>\n",
       "      <td>81.0</td>\n",
       "    </tr>\n",
       "    <tr>\n",
       "      <th>3</th>\n",
       "      <td>05-31</td>\n",
       "      <td>68.0</td>\n",
       "      <td>74.400000</td>\n",
       "      <td>81.0</td>\n",
       "    </tr>\n",
       "    <tr>\n",
       "      <th>4</th>\n",
       "      <td>05-31</td>\n",
       "      <td>68.0</td>\n",
       "      <td>74.400000</td>\n",
       "      <td>81.0</td>\n",
       "    </tr>\n",
       "    <tr>\n",
       "      <th>5</th>\n",
       "      <td>06-01</td>\n",
       "      <td>64.0</td>\n",
       "      <td>74.614035</td>\n",
       "      <td>81.0</td>\n",
       "    </tr>\n",
       "    <tr>\n",
       "      <th>6</th>\n",
       "      <td>06-01</td>\n",
       "      <td>64.0</td>\n",
       "      <td>74.614035</td>\n",
       "      <td>81.0</td>\n",
       "    </tr>\n",
       "    <tr>\n",
       "      <th>7</th>\n",
       "      <td>06-01</td>\n",
       "      <td>64.0</td>\n",
       "      <td>74.614035</td>\n",
       "      <td>81.0</td>\n",
       "    </tr>\n",
       "    <tr>\n",
       "      <th>8</th>\n",
       "      <td>06-01</td>\n",
       "      <td>64.0</td>\n",
       "      <td>74.614035</td>\n",
       "      <td>81.0</td>\n",
       "    </tr>\n",
       "    <tr>\n",
       "      <th>9</th>\n",
       "      <td>06-01</td>\n",
       "      <td>64.0</td>\n",
       "      <td>74.614035</td>\n",
       "      <td>81.0</td>\n",
       "    </tr>\n",
       "    <tr>\n",
       "      <th>10</th>\n",
       "      <td>06-01</td>\n",
       "      <td>64.0</td>\n",
       "      <td>74.614035</td>\n",
       "      <td>81.0</td>\n",
       "    </tr>\n",
       "    <tr>\n",
       "      <th>11</th>\n",
       "      <td>06-02</td>\n",
       "      <td>65.0</td>\n",
       "      <td>74.400000</td>\n",
       "      <td>81.0</td>\n",
       "    </tr>\n",
       "    <tr>\n",
       "      <th>12</th>\n",
       "      <td>06-02</td>\n",
       "      <td>65.0</td>\n",
       "      <td>74.400000</td>\n",
       "      <td>81.0</td>\n",
       "    </tr>\n",
       "    <tr>\n",
       "      <th>13</th>\n",
       "      <td>06-02</td>\n",
       "      <td>65.0</td>\n",
       "      <td>74.400000</td>\n",
       "      <td>81.0</td>\n",
       "    </tr>\n",
       "    <tr>\n",
       "      <th>14</th>\n",
       "      <td>06-02</td>\n",
       "      <td>65.0</td>\n",
       "      <td>74.400000</td>\n",
       "      <td>81.0</td>\n",
       "    </tr>\n",
       "    <tr>\n",
       "      <th>15</th>\n",
       "      <td>06-02</td>\n",
       "      <td>65.0</td>\n",
       "      <td>74.400000</td>\n",
       "      <td>81.0</td>\n",
       "    </tr>\n",
       "    <tr>\n",
       "      <th>16</th>\n",
       "      <td>06-02</td>\n",
       "      <td>65.0</td>\n",
       "      <td>74.400000</td>\n",
       "      <td>81.0</td>\n",
       "    </tr>\n",
       "    <tr>\n",
       "      <th>17</th>\n",
       "      <td>06-03</td>\n",
       "      <td>65.0</td>\n",
       "      <td>74.034483</td>\n",
       "      <td>80.0</td>\n",
       "    </tr>\n",
       "    <tr>\n",
       "      <th>18</th>\n",
       "      <td>06-03</td>\n",
       "      <td>65.0</td>\n",
       "      <td>74.034483</td>\n",
       "      <td>80.0</td>\n",
       "    </tr>\n",
       "    <tr>\n",
       "      <th>19</th>\n",
       "      <td>06-03</td>\n",
       "      <td>65.0</td>\n",
       "      <td>74.034483</td>\n",
       "      <td>80.0</td>\n",
       "    </tr>\n",
       "    <tr>\n",
       "      <th>20</th>\n",
       "      <td>06-03</td>\n",
       "      <td>65.0</td>\n",
       "      <td>74.034483</td>\n",
       "      <td>80.0</td>\n",
       "    </tr>\n",
       "    <tr>\n",
       "      <th>21</th>\n",
       "      <td>06-03</td>\n",
       "      <td>65.0</td>\n",
       "      <td>74.034483</td>\n",
       "      <td>80.0</td>\n",
       "    </tr>\n",
       "    <tr>\n",
       "      <th>22</th>\n",
       "      <td>06-03</td>\n",
       "      <td>65.0</td>\n",
       "      <td>74.034483</td>\n",
       "      <td>80.0</td>\n",
       "    </tr>\n",
       "    <tr>\n",
       "      <th>23</th>\n",
       "      <td>06-04</td>\n",
       "      <td>65.0</td>\n",
       "      <td>73.818182</td>\n",
       "      <td>81.0</td>\n",
       "    </tr>\n",
       "    <tr>\n",
       "      <th>24</th>\n",
       "      <td>06-04</td>\n",
       "      <td>65.0</td>\n",
       "      <td>73.818182</td>\n",
       "      <td>81.0</td>\n",
       "    </tr>\n",
       "    <tr>\n",
       "      <th>25</th>\n",
       "      <td>06-04</td>\n",
       "      <td>65.0</td>\n",
       "      <td>73.818182</td>\n",
       "      <td>81.0</td>\n",
       "    </tr>\n",
       "    <tr>\n",
       "      <th>26</th>\n",
       "      <td>06-04</td>\n",
       "      <td>65.0</td>\n",
       "      <td>73.818182</td>\n",
       "      <td>81.0</td>\n",
       "    </tr>\n",
       "    <tr>\n",
       "      <th>27</th>\n",
       "      <td>06-04</td>\n",
       "      <td>65.0</td>\n",
       "      <td>73.818182</td>\n",
       "      <td>81.0</td>\n",
       "    </tr>\n",
       "    <tr>\n",
       "      <th>28</th>\n",
       "      <td>06-04</td>\n",
       "      <td>65.0</td>\n",
       "      <td>73.818182</td>\n",
       "      <td>81.0</td>\n",
       "    </tr>\n",
       "    <tr>\n",
       "      <th>29</th>\n",
       "      <td>06-05</td>\n",
       "      <td>68.0</td>\n",
       "      <td>74.854545</td>\n",
       "      <td>81.0</td>\n",
       "    </tr>\n",
       "    <tr>\n",
       "      <th>...</th>\n",
       "      <td>...</td>\n",
       "      <td>...</td>\n",
       "      <td>...</td>\n",
       "      <td>...</td>\n",
       "    </tr>\n",
       "    <tr>\n",
       "      <th>72</th>\n",
       "      <td>06-11</td>\n",
       "      <td>69.0</td>\n",
       "      <td>76.019608</td>\n",
       "      <td>84.0</td>\n",
       "    </tr>\n",
       "    <tr>\n",
       "      <th>73</th>\n",
       "      <td>06-11</td>\n",
       "      <td>69.0</td>\n",
       "      <td>76.019608</td>\n",
       "      <td>84.0</td>\n",
       "    </tr>\n",
       "    <tr>\n",
       "      <th>74</th>\n",
       "      <td>06-11</td>\n",
       "      <td>69.0</td>\n",
       "      <td>76.019608</td>\n",
       "      <td>84.0</td>\n",
       "    </tr>\n",
       "    <tr>\n",
       "      <th>75</th>\n",
       "      <td>06-12</td>\n",
       "      <td>66.0</td>\n",
       "      <td>75.666667</td>\n",
       "      <td>83.0</td>\n",
       "    </tr>\n",
       "    <tr>\n",
       "      <th>76</th>\n",
       "      <td>06-12</td>\n",
       "      <td>66.0</td>\n",
       "      <td>75.666667</td>\n",
       "      <td>83.0</td>\n",
       "    </tr>\n",
       "    <tr>\n",
       "      <th>77</th>\n",
       "      <td>06-12</td>\n",
       "      <td>66.0</td>\n",
       "      <td>75.666667</td>\n",
       "      <td>83.0</td>\n",
       "    </tr>\n",
       "    <tr>\n",
       "      <th>78</th>\n",
       "      <td>06-12</td>\n",
       "      <td>66.0</td>\n",
       "      <td>75.666667</td>\n",
       "      <td>83.0</td>\n",
       "    </tr>\n",
       "    <tr>\n",
       "      <th>79</th>\n",
       "      <td>06-12</td>\n",
       "      <td>66.0</td>\n",
       "      <td>75.666667</td>\n",
       "      <td>83.0</td>\n",
       "    </tr>\n",
       "    <tr>\n",
       "      <th>80</th>\n",
       "      <td>06-12</td>\n",
       "      <td>66.0</td>\n",
       "      <td>75.666667</td>\n",
       "      <td>83.0</td>\n",
       "    </tr>\n",
       "    <tr>\n",
       "      <th>81</th>\n",
       "      <td>06-13</td>\n",
       "      <td>68.0</td>\n",
       "      <td>75.666667</td>\n",
       "      <td>81.0</td>\n",
       "    </tr>\n",
       "    <tr>\n",
       "      <th>82</th>\n",
       "      <td>06-13</td>\n",
       "      <td>68.0</td>\n",
       "      <td>75.666667</td>\n",
       "      <td>81.0</td>\n",
       "    </tr>\n",
       "    <tr>\n",
       "      <th>83</th>\n",
       "      <td>06-13</td>\n",
       "      <td>68.0</td>\n",
       "      <td>75.666667</td>\n",
       "      <td>81.0</td>\n",
       "    </tr>\n",
       "    <tr>\n",
       "      <th>84</th>\n",
       "      <td>06-13</td>\n",
       "      <td>68.0</td>\n",
       "      <td>75.666667</td>\n",
       "      <td>81.0</td>\n",
       "    </tr>\n",
       "    <tr>\n",
       "      <th>85</th>\n",
       "      <td>06-13</td>\n",
       "      <td>68.0</td>\n",
       "      <td>75.666667</td>\n",
       "      <td>81.0</td>\n",
       "    </tr>\n",
       "    <tr>\n",
       "      <th>86</th>\n",
       "      <td>06-13</td>\n",
       "      <td>68.0</td>\n",
       "      <td>75.666667</td>\n",
       "      <td>81.0</td>\n",
       "    </tr>\n",
       "    <tr>\n",
       "      <th>87</th>\n",
       "      <td>06-13</td>\n",
       "      <td>68.0</td>\n",
       "      <td>75.666667</td>\n",
       "      <td>81.0</td>\n",
       "    </tr>\n",
       "    <tr>\n",
       "      <th>88</th>\n",
       "      <td>06-14</td>\n",
       "      <td>69.0</td>\n",
       "      <td>75.627119</td>\n",
       "      <td>81.0</td>\n",
       "    </tr>\n",
       "    <tr>\n",
       "      <th>89</th>\n",
       "      <td>06-14</td>\n",
       "      <td>69.0</td>\n",
       "      <td>75.627119</td>\n",
       "      <td>81.0</td>\n",
       "    </tr>\n",
       "    <tr>\n",
       "      <th>90</th>\n",
       "      <td>06-14</td>\n",
       "      <td>69.0</td>\n",
       "      <td>75.627119</td>\n",
       "      <td>81.0</td>\n",
       "    </tr>\n",
       "    <tr>\n",
       "      <th>91</th>\n",
       "      <td>06-14</td>\n",
       "      <td>69.0</td>\n",
       "      <td>75.627119</td>\n",
       "      <td>81.0</td>\n",
       "    </tr>\n",
       "    <tr>\n",
       "      <th>92</th>\n",
       "      <td>06-14</td>\n",
       "      <td>69.0</td>\n",
       "      <td>75.627119</td>\n",
       "      <td>81.0</td>\n",
       "    </tr>\n",
       "    <tr>\n",
       "      <th>93</th>\n",
       "      <td>06-14</td>\n",
       "      <td>69.0</td>\n",
       "      <td>75.627119</td>\n",
       "      <td>81.0</td>\n",
       "    </tr>\n",
       "    <tr>\n",
       "      <th>94</th>\n",
       "      <td>06-14</td>\n",
       "      <td>69.0</td>\n",
       "      <td>75.627119</td>\n",
       "      <td>81.0</td>\n",
       "    </tr>\n",
       "    <tr>\n",
       "      <th>95</th>\n",
       "      <td>06-15</td>\n",
       "      <td>67.0</td>\n",
       "      <td>75.403509</td>\n",
       "      <td>81.0</td>\n",
       "    </tr>\n",
       "    <tr>\n",
       "      <th>96</th>\n",
       "      <td>06-15</td>\n",
       "      <td>67.0</td>\n",
       "      <td>75.403509</td>\n",
       "      <td>81.0</td>\n",
       "    </tr>\n",
       "    <tr>\n",
       "      <th>97</th>\n",
       "      <td>06-15</td>\n",
       "      <td>67.0</td>\n",
       "      <td>75.403509</td>\n",
       "      <td>81.0</td>\n",
       "    </tr>\n",
       "    <tr>\n",
       "      <th>98</th>\n",
       "      <td>06-15</td>\n",
       "      <td>67.0</td>\n",
       "      <td>75.403509</td>\n",
       "      <td>81.0</td>\n",
       "    </tr>\n",
       "    <tr>\n",
       "      <th>99</th>\n",
       "      <td>06-15</td>\n",
       "      <td>67.0</td>\n",
       "      <td>75.403509</td>\n",
       "      <td>81.0</td>\n",
       "    </tr>\n",
       "    <tr>\n",
       "      <th>100</th>\n",
       "      <td>06-15</td>\n",
       "      <td>67.0</td>\n",
       "      <td>75.403509</td>\n",
       "      <td>81.0</td>\n",
       "    </tr>\n",
       "    <tr>\n",
       "      <th>101</th>\n",
       "      <td>06-15</td>\n",
       "      <td>67.0</td>\n",
       "      <td>75.403509</td>\n",
       "      <td>81.0</td>\n",
       "    </tr>\n",
       "  </tbody>\n",
       "</table>\n",
       "<p>102 rows × 4 columns</p>\n",
       "</div>"
      ],
      "text/plain": [
       "         0     1          2     3\n",
       "0    05-31  68.0  74.400000  81.0\n",
       "1    05-31  68.0  74.400000  81.0\n",
       "2    05-31  68.0  74.400000  81.0\n",
       "3    05-31  68.0  74.400000  81.0\n",
       "4    05-31  68.0  74.400000  81.0\n",
       "5    06-01  64.0  74.614035  81.0\n",
       "6    06-01  64.0  74.614035  81.0\n",
       "7    06-01  64.0  74.614035  81.0\n",
       "8    06-01  64.0  74.614035  81.0\n",
       "9    06-01  64.0  74.614035  81.0\n",
       "10   06-01  64.0  74.614035  81.0\n",
       "11   06-02  65.0  74.400000  81.0\n",
       "12   06-02  65.0  74.400000  81.0\n",
       "13   06-02  65.0  74.400000  81.0\n",
       "14   06-02  65.0  74.400000  81.0\n",
       "15   06-02  65.0  74.400000  81.0\n",
       "16   06-02  65.0  74.400000  81.0\n",
       "17   06-03  65.0  74.034483  80.0\n",
       "18   06-03  65.0  74.034483  80.0\n",
       "19   06-03  65.0  74.034483  80.0\n",
       "20   06-03  65.0  74.034483  80.0\n",
       "21   06-03  65.0  74.034483  80.0\n",
       "22   06-03  65.0  74.034483  80.0\n",
       "23   06-04  65.0  73.818182  81.0\n",
       "24   06-04  65.0  73.818182  81.0\n",
       "25   06-04  65.0  73.818182  81.0\n",
       "26   06-04  65.0  73.818182  81.0\n",
       "27   06-04  65.0  73.818182  81.0\n",
       "28   06-04  65.0  73.818182  81.0\n",
       "29   06-05  68.0  74.854545  81.0\n",
       "..     ...   ...        ...   ...\n",
       "72   06-11  69.0  76.019608  84.0\n",
       "73   06-11  69.0  76.019608  84.0\n",
       "74   06-11  69.0  76.019608  84.0\n",
       "75   06-12  66.0  75.666667  83.0\n",
       "76   06-12  66.0  75.666667  83.0\n",
       "77   06-12  66.0  75.666667  83.0\n",
       "78   06-12  66.0  75.666667  83.0\n",
       "79   06-12  66.0  75.666667  83.0\n",
       "80   06-12  66.0  75.666667  83.0\n",
       "81   06-13  68.0  75.666667  81.0\n",
       "82   06-13  68.0  75.666667  81.0\n",
       "83   06-13  68.0  75.666667  81.0\n",
       "84   06-13  68.0  75.666667  81.0\n",
       "85   06-13  68.0  75.666667  81.0\n",
       "86   06-13  68.0  75.666667  81.0\n",
       "87   06-13  68.0  75.666667  81.0\n",
       "88   06-14  69.0  75.627119  81.0\n",
       "89   06-14  69.0  75.627119  81.0\n",
       "90   06-14  69.0  75.627119  81.0\n",
       "91   06-14  69.0  75.627119  81.0\n",
       "92   06-14  69.0  75.627119  81.0\n",
       "93   06-14  69.0  75.627119  81.0\n",
       "94   06-14  69.0  75.627119  81.0\n",
       "95   06-15  67.0  75.403509  81.0\n",
       "96   06-15  67.0  75.403509  81.0\n",
       "97   06-15  67.0  75.403509  81.0\n",
       "98   06-15  67.0  75.403509  81.0\n",
       "99   06-15  67.0  75.403509  81.0\n",
       "100  06-15  67.0  75.403509  81.0\n",
       "101  06-15  67.0  75.403509  81.0\n",
       "\n",
       "[102 rows x 4 columns]"
      ]
     },
     "execution_count": 58,
     "metadata": {},
     "output_type": "execute_result"
    }
   ],
   "source": [
    "# Load the previous query results into a Pandas DataFrame and add the `trip_dates` range as the `date` index\n",
    "# \n",
    "df = pd.DataFrame(df)\n",
    "df"
   ]
  },
  {
   "cell_type": "code",
   "execution_count": 59,
   "metadata": {},
   "outputs": [
    {
     "data": {
      "text/plain": [
       "<matplotlib.axes._subplots.AxesSubplot at 0x1d809610208>"
      ]
     },
     "execution_count": 59,
     "metadata": {},
     "output_type": "execute_result"
    },
    {
     "data": {
      "image/png": "[encoded data removed]",
      "text/plain": [
       "<Figure size 432x288 with 1 Axes>"
      ]
     },
     "metadata": {
      "needs_background": "light"
     },
     "output_type": "display_data"
    }
   ],
   "source": [
    "# Plot the daily normals as an area plot with `stacked=False`\n",
    "df.plot.area(stacked=False)"
   ]
  }
 ],
 "metadata": {
  "kernel_info": {
   "name": "python3"
  },
  "kernelspec": {
   "display_name": "Python 3",
   "language": "python",
   "name": "python3"
  },
  "language_info": {
   "codemirror_mode": {
    "name": "ipython",
    "version": 3
   },
   "file_extension": ".py",
   "mimetype": "text/x-python",
   "name": "python",
   "nbconvert_exporter": "python",
   "pygments_lexer": "ipython3",
   "version": "3.7.3"
  },
  "nteract": {
   "version": "0.12.3"
  },
  "varInspector": {
   "cols": {
    "lenName": 16,
    "lenType": 16,
    "lenVar": 40
   },
   "kernels_config": {
    "python": {
     "delete_cmd_postfix": "",
     "delete_cmd_prefix": "del ",
     "library": "var_list.py",
     "varRefreshCmd": "print(var_dic_list())"
    },
    "r": {
     "delete_cmd_postfix": ") ",
     "delete_cmd_prefix": "rm(",
     "library": "var_list.r",
     "varRefreshCmd": "cat(var_dic_list()) "
    }
   },
   "types_to_exclude": [
    "module",
    "function",
    "builtin_function_or_method",
    "instance",
    "_Feature"
   ],
   "window_display": false
  }
 },
 "nbformat": 4,
 "nbformat_minor": 2
}
